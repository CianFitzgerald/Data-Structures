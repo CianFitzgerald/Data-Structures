{
 "cells": [
  {
   "cell_type": "code",
   "execution_count": 10,
   "metadata": {},
   "outputs": [],
   "source": [
    "import unittest\n",
    "from unittest.mock import patch, call\n",
    "import time \n",
    "import matplotlib.pyplot as plt "
   ]
  },
  {
   "cell_type": "markdown",
   "metadata": {},
   "source": [
    "## Introduction\n",
    "\n",
    "This report will examine the implementation of linked lists, and two abstract data types, these being queues and stacks. In particular a singly linked list will be implemented and some example operations will be performed, along with tests of execution times. Both stacks and queues will also be implemented with the use of arrays, the running times of their key operations will be tested and through this investigation we will be able to determine and discuss the time comlpexities of these algorithms and how they behave with increasing input. As well as this a number of example operations will be implemented to examine the behaviour of stack and queue operations. All plots as produced by my machine will be attached seperately for viewing. The appendix at the end of this report will contain all the unit tests of the preceding algorithms which have been implemented. \n",
    "\n",
    "## 1.1 Implementing singly linked list interface\n",
    "\n",
    "\n",
    "Firstly we will look at the implementation of a singly linked list interface. This implementation involves the use of two classes, these being *Node* and *myLinkedList*. The *Node* class takes two elements in its constructor, these being *element* which stores the past data point and *next* which stores the pointer to the nodes successor in the linked list. These nodes are then threaded together using the myLinkedList class, this class acts as a wrapper which wraps over the nodes and provides an interface through which the user can add nodes, remove nodes and traverse the linked list. The *myLinkedList* constructor sets the head of the linked list to None.\n",
    "\n",
    "Five methods in total are implemented in the myLinkedList class:\n",
    "- ***add_first*** - adds a node at the beginning of the linked list. This is done by setting the pointer of the node to be inserted to the current head of the linked list and then setting the head pointer to the new node. This operation has time complexity of O(1).\n",
    "\n",
    "- ***add_last*** - adds a node at the end of the linked list. This is done by first checking if the linked list is empty, if so then the head will point to the new node . Otherwise the list is traversed until the final node is reached and then the pointer of the last node will point to the new node to be insterted. The time complexity of this operation is O(n) where n represents the number of nodes present in the linked. This is due to the fact that the function must traverse until the end of the list. This operation can be optimized using a stored tail pointer, this would result in a time complexity of O(1).\n",
    "\n",
    "- ***list_traversal*** - Traverses the linked list and appends each element to a list which is then returned for the user to see. This operation has time complexity O(n) for the same reasons as above.\n",
    "\n",
    "- ***remove_first*** - Removes the first node of the linked list. This is done by firstly checking if the linked list is empty, if so an error message will appear. Otherwise the head pointer is moved to the next node such that this node becomes the first element in the linked list. This operation has time complexity O(1)\n",
    "\n",
    "- ***size*** - Returns the size of the linked list. This is done by traversing the linked list until the final node is reached, after each loop a counter will increase by one and the total sum is returned. This operation has time complexity O(n) as we must traverse the linked list in order to find the size, therefore as input size increases so too will execution time of this operation. \n",
    "\n",
    "- ***isEmpty*** - Checks whether or not the linked list is empty. this is done by checking if the head of the linked list is None. This operation has time complexity O(1)."
   ]
  },
  {
   "cell_type": "code",
   "execution_count": 16,
   "metadata": {},
   "outputs": [],
   "source": [
    "class Node:\n",
    "    def __init__(self, element):\n",
    "        #storing the past element point.\n",
    "        self.element = element\n",
    "        #storing the pointer to the next node.\n",
    "        #set to none as the last pointer in the linked list will always have its pointer set to None\n",
    "        self.next = None\n",
    "        \n",
    "        \n",
    "#wrapper class that wraps over the nodes\n",
    "class myLinkedList(Node):\n",
    "    #creating constructor \n",
    "    def __init__(self):\n",
    "        #placeholder that points to the first element in the list \n",
    "        self.head = None\n",
    "\n",
    "    #method that adds element at the front of the linked list \n",
    "    def add_first(self,new_element):\n",
    "        \n",
    "        #creating the new node \n",
    "        New_Node = Node(new_element)\n",
    "        #set the current head as the next node of the new node\n",
    "        New_Node.next = self.head\n",
    "        #head now points to the new node\n",
    "        self.head = New_Node\n",
    "    \n",
    "    #method that adds element at the end of the linked list\n",
    "    def add_last(self, element):\n",
    "        #create the new node\n",
    "        New_Node = Node(element)\n",
    "        #check if linked list is empty\n",
    "        #if so point head to new node \n",
    "        if self.head is None:\n",
    "            self.head = New_Node\n",
    "            return\n",
    "        \n",
    "        #if linked list is not empty then traverse list until last node \n",
    "        #set the next node of the last node as the new node\n",
    "        else:\n",
    "            current_Node = self.head\n",
    "            while current_Node.next :\n",
    "                current_Node = current_Node.next\n",
    "            current_Node.next = New_Node\n",
    "\n",
    "    #method that traverses the linked list and prints the elements at each node\n",
    "    def list_traversal(self):\n",
    "        \n",
    "        #check if linked list is empty \n",
    "        #print error message \n",
    "        if self.head is None:\n",
    "            print(\"no elements in this linked list\")\n",
    "            return \n",
    "        #create empty list \n",
    "        items = []\n",
    "        #set the current node to the head of the linked list \n",
    "        #traverse the linked list and append the data of each node to the list \n",
    "        current_Node = self.head\n",
    "        while current_Node:\n",
    "\n",
    "            items.append(current_Node.element)  \n",
    "            current_Node = current_Node.next\n",
    "\n",
    "        return items\n",
    " \n",
    "    #method that removes the first element of the linked list \n",
    "    def remove_first(self):\n",
    "        \n",
    "        #check if lined list is empty \n",
    "        #return error message if so \n",
    "        if self.head == None:\n",
    "            return \"Error: Linked List is Empty\"\n",
    "        \n",
    "        #head pointer moved to next node \n",
    "        self.head = self.head.next\n",
    "        return self.head\n",
    "\n",
    "    #method that returns the size of the linked list \n",
    "    def size(self):\n",
    "        #traverse the linked list and increase the size variable by one for each loop \n",
    "        #return size\n",
    "        current_Node = self.head\n",
    "        size = 0\n",
    "        while current_Node:\n",
    "            size+=1\n",
    "            current_Node = current_Node.next\n",
    "        return size\n",
    "\n",
    "    #method that returns true if the linked list is empty \n",
    "    def isEmpty(self):\n",
    "        #if head of linked list is none the linked list is empty \n",
    "        if self.head == None:\n",
    "            return \"linked list is empty\"\n",
    "        #otherwise it is not empty \n",
    "        else:\n",
    "            return \"linked list is not empty\""
   ]
  },
  {
   "cell_type": "markdown",
   "metadata": {},
   "source": [
    "## Linked list operations\n",
    "\n",
    "We will test the operations of the *myLinkedList* class. The content of the linked list will be printed after each operation using the *list_traversal* method to show the functionality of the methods and how they affect the linked list. The output of this implementation can be seen below, all methods work as they should. See the appendix of this report for unit testing of these methods. "
   ]
  },
  {
   "cell_type": "code",
   "execution_count": 3,
   "metadata": {},
   "outputs": [
    {
     "name": "stdout",
     "output_type": "stream",
     "text": [
      "[1]\n",
      "[2, 1]\n",
      "linked list is not empty\n",
      "[3, 2, 1]\n",
      "[3, 2, 1, 'Cian']\n",
      "[2, 1, 'Cian']\n",
      "[2, 1, 'Cian', 10]\n",
      "[9, 2, 1, 'Cian', 10]\n",
      "[2, 1, 'Cian', 10]\n",
      "lined list size: 4\n"
     ]
    }
   ],
   "source": [
    "if __name__=='__main__':\n",
    "    \n",
    "    #creating empty linked list \n",
    "    list = myLinkedList()\n",
    "     \n",
    "    #adding node at the end     \n",
    "    list.add_last(1)\n",
    "    print(list.list_traversal())\n",
    "    \n",
    "    #adding node at the front       \n",
    "    list.add_first(2)\n",
    "    print(list.list_traversal())\n",
    "\n",
    "    #check if the linked list is empty \n",
    "    print(list.isEmpty())\n",
    "    \n",
    "    list.add_first(3)\n",
    "    print(list.list_traversal())\n",
    "    \n",
    "    #adding a string to the end \n",
    "    list.add_last('Cian')\n",
    "    print(list.list_traversal())\n",
    "    \n",
    "    #removing the first node \n",
    "    list.remove_first()\n",
    "    print(list.list_traversal())\n",
    "    \n",
    "    #adding node at the end     \n",
    "    list.add_last(10)\n",
    "    print(list.list_traversal())\n",
    "    \n",
    "    #adding node at the front     \n",
    "    list.add_first(9)\n",
    "    print(list.list_traversal())\n",
    "    \n",
    "    #removing the first node \n",
    "    list.remove_first()\n",
    "    print(list.list_traversal())  \n",
    "    \n",
    "    print(\"lined list size:\", list.size())"
   ]
  },
  {
   "cell_type": "markdown",
   "metadata": {},
   "source": [
    "## Testing Running Time \n",
    "\n",
    "## *add_last*\n",
    "\n",
    "The majority of the Linked lists methods have time complexity of O(1) and therefore will produce a constant function plot when execution times are checked against increasing input size. However it would be interesting to check the execution times of *add_last* against increasing input size due to the fact that this operation has time complexity of O(n). Below we can see the results produced when using the *timeit* module to check the execution time of *add_last* for an increasing number of nodes. As we can see this produces a linear plot as expected, due to the fact that the function must traverse until the end of the list in order to add a new node. Therefore as the size of the linked list increases, so too does the execution time in a linear fashion. This operation can be optimized using a stored tail pointer, this would then result in a time complexity of O(1).\n"
   ]
  },
  {
   "cell_type": "code",
   "execution_count": 19,
   "metadata": {},
   "outputs": [
    {
     "data": {
      "image/png": "[encoded data removed]",
      "text/plain": [
       "<Figure size 864x576 with 1 Axes>"
      ]
     },
     "metadata": {
      "needs_background": "light"
     },
     "output_type": "display_data"
    }
   ],
   "source": [
    "execution_times = []\n",
    "LinkedList = myLinkedList()\n",
    "for i in range(0,50): \n",
    "    #Timeit Result calculated and stored in time variable\n",
    "    time = %timeit -q -o -n 100 LinkedList.add_last(i)\n",
    "    #appending the Timeit results to the list \n",
    "    execution_times.append(time) \n",
    "               \n",
    "#Initialize empty list for the average execution times \n",
    "average_execution_times = []\n",
    "\n",
    "#for loop iterating over the Timeit Results \n",
    "for i in range(0,50):\n",
    "    # .average attribute of timeit results used to create a list of the average exection times \n",
    "    average_execution_times.append(execution_times[i].average)\n",
    "\n",
    "#plotting results\n",
    "plt.rcParams['figure.figsize'] = [12, 8]              \n",
    "plt.xlabel('Number of nodes added') \n",
    "plt.ylabel('Average execution time (seconds)') \n",
    "plt.title(\"Execution time vs. increasing linked list size (add_last)\" )\n",
    "plt.scatter([x for x in range(0,50)], average_execution_times) \n",
    "plt.grid() \n",
    "plt.savefig(\"1. Execution time vs. increasing linked list size (add_last).png\")\n",
    "plt.show() "
   ]
  },
  {
   "cell_type": "markdown",
   "metadata": {},
   "source": [
    "## *add_first*\n",
    "\n",
    "Below we can see the same test of running time as input size grows for the *add_first* method, this produces a constant plot. This function has time complexity of O(1) and therefore this plot is as expected. "
   ]
  },
  {
   "cell_type": "code",
   "execution_count": 18,
   "metadata": {},
   "outputs": [
    {
     "data": {
      "image/png": "[encoded data removed]",
      "text/plain": [
       "<Figure size 864x576 with 1 Axes>"
      ]
     },
     "metadata": {
      "needs_background": "light"
     },
     "output_type": "display_data"
    }
   ],
   "source": [
    "execution_times = []\n",
    "LinkedList = myLinkedList()\n",
    "for i in range(0,50): \n",
    "    #Timeit Result calculated and stored in time variable\n",
    "    time = %timeit -q -o -n 100 LinkedList.add_first(i)\n",
    "    #appending the Timeit results to the list \n",
    "    execution_times.append(time) \n",
    "               \n",
    "#Initialize empty list for the average execution times \n",
    "average_execution_times = []\n",
    "\n",
    "#for loop iterating over the Timeit Results \n",
    "for i in range(0,50):\n",
    "    # .average attribute of timeit results used to create a list of the average exection times \n",
    "    average_execution_times.append(execution_times[i].average)\n",
    "\n",
    "#plotting results\n",
    "plt.rcParams['figure.figsize'] = [12, 8]              \n",
    "plt.xlabel('Number of nodes added') \n",
    "plt.ylabel('Average execution time (seconds)') \n",
    "plt.title(\"Execution time vs. increasing linked list size (add_first)\" )\n",
    "plt.savefig(\"2. Execution time vs. increasing linked list size (add_first).png\")\n",
    "plt.scatter([x for x in range(0,50)], average_execution_times) \n",
    "plt.grid() \n",
    "plt.savefig(\"2. Execution time vs. increasing linked list size (add_first).png\")\n",
    "plt.show() "
   ]
  },
  {
   "cell_type": "markdown",
   "metadata": {},
   "source": [
    "## 1.2 Stack ADT and Queue ADT\n",
    "\n",
    "### Stack ADT\n",
    "A stack is an abstract data type that serves as a collection of elements. Stacks are a Last-in-first-out data structure (LIFO) as stacks only allow operations to occur at one end of the stack. For this reason, only the top element of the stack can be accessed at any given time. A stack can be implemented in python with the use of linked lists or arrays. For the purposes of this assignment we will be implementing stacks with the use of arrays, arrays allow for the same functionality as a stack as we can append and remove items from the array, combining this with a number of other methods we can then mimic the functionality of a stack abstract data type. Stacks can also be implemented with the use of linked lists, however, linked lists can prove to be a messy and computationally expensive process and therefore arrays provide a more elegant solution. The key and support operations of the stack ADT are as outlined below, all operations are of time complexity O(1):\n",
    "\n",
    "**Key operations:**\n",
    "- ***push***  the push method adds an element to the collection.\n",
    "- ***pop*** removes the most recently added element that was not yet removed.\n",
    "\n",
    "**Support operations:**\n",
    "- ***isEmpty*** - returns true if the stack is empty \n",
    "- ***top_stack*** - returns the top element of the stack \n",
    "- ***size*** - returns the size of the stack \n",
    "- ***show*** - returns all elements in the stack \n",
    "\n",
    "**Real world Examples:** \n",
    "- A typical real world example of a stack is a stack of plates in a restaraunt kitchen. If you were to add a plate to the pile you would add it to the top. In order to remove a plate from the pile you would take the top plate. Therefore it is the plate at the top of the pile that can be accessed and modified. If you wanted to get the plate at the bottom of the pile you would have to remove all plates on top of it in order to reach it. It is the last plate that is placed on top of the pile that is the first to be removed.\n",
    "- Another example would be the loading of a shot gun, each bullet is loaded sequentially and it is therefore the last bullet in that is the first to get fired. If you want to remove a bullet from the catridge you would have to fire the gun. If you wanted to get to the bottom of the cartridge you would have to fire all the bullets to reach the bottom. \n",
    "\n",
    "\n",
    "### Queue ADT\n",
    "A queue is a collection of elements that are maintained in a sequence and can be altered by the addition of elements at one end of the sequence and the removal of elements from the other end. Queues are a First-in-First-out (FIFO) data structure and therefore operations can occur at both ends of the queue. Elements can be added to the rear of the queue and removed from the top of the queue. Once again these can be implemented with the use of arrays for the same reasons as above. A number of the support operations overlap between stacks and queues and for this reason for the purposes of this assignment we will make the class queue a subclass of stack such that it can inherit the support operations which are shown below, once again all operations are of time complexity O(1), except for dequeue which has time complexity O(n), this will be investigated further later on. \n",
    "\n",
    "**Key operations:**\n",
    "- ***enqueue***  The addition of an element at the end of the queue.\n",
    "- ***dequeue*** The removal of an element from the top of the queue.\n",
    "\n",
    "**Support operations:**\n",
    "- ***isEmpty*** - returns true if the queue is empty \n",
    "- ***top_queue*** - returns the element at the top of the queue\n",
    "- ***size*** - returns the size of the queue \n",
    "- ***show*** - returns all elements in the queue \n",
    "\n",
    "**Real world Examples:** \n",
    "- A drive-thru restaraunt is a real world example of a queue. As cars join the queue for the restaraunt it is the first car to arrive that will be the first one to get out of the queue. Cars join at the rear of the queue and cars leave from the top of the queue. Each car must wait until they reach the top of the queue before their order is taken. \n",
    "- Another example would be waiting on hold for tech support. When you call a tech support line, you are put on hold and you join the rear of the queue, those at the top of the queue are prioritized and will be out of the queue before you. Therefore the first person into the queue will be the first person out, people join the queue sequentially and each person must wait until they reach the top of the queue before their call is taken."
   ]
  },
  {
   "cell_type": "markdown",
   "metadata": {},
   "source": [
    "## 2.1 Stack ADT implementation\n",
    "\n",
    "The stack will be implemented using arrays as explained above. The array mimics the functionality of a stack, with the last element in the array representing the top of the stack. Therefore elements can be appended or removed from the top of the array, this then represents the push and pop functionality. The support operations are also implemented and an example implementation of the operations can be seen below. All unit tests of this class are contained in the appendix of this report.  "
   ]
  },
  {
   "cell_type": "code",
   "execution_count": 2,
   "metadata": {},
   "outputs": [],
   "source": [
    "class Stack:\n",
    "    #constructor \n",
    "    def __init__(self):\n",
    "        #creates an empty array \n",
    "        self.elements = []\n",
    "\n",
    "    #method to check if stack is empty \n",
    "    def isEmpty(self):\n",
    "        #returns true if stack is empty \n",
    "        return self.elements == []\n",
    "\n",
    "    #method to add an element to the top of the stack \n",
    "    def push(self, element):\n",
    "        #appends element to the array\n",
    "        self.elements.append(element)\n",
    "\n",
    "    #method to remove element from the top of the stack \n",
    "    def pop(self):\n",
    "        #checks if stack is empty\n",
    "        if self.isEmpty():\n",
    "            return \"Empty Error\"\n",
    "        #removes the last element of the array \n",
    "        self.elements = self.elements[:-1]\n",
    "\n",
    "    #method to see the top element of the stack \n",
    "    def top_stack(self):\n",
    "        #checks if stack is empty\n",
    "        if self.isEmpty():\n",
    "            return \"Empty Error\"\n",
    "        #returns the last element of the array \n",
    "        return self.elements[len(self.elements)-1]\n",
    "\n",
    "    #method to return the size of the stack \n",
    "    def size(self):\n",
    "        if self.isEmpty():\n",
    "            return \"Empty Error\"\n",
    "        #returns the length of the array \n",
    "        return len(self.elements)\n",
    "    \n",
    "    #method to show the stack \n",
    "    def show(self):\n",
    "        if self.isEmpty():\n",
    "            return \"Empty Error\"\n",
    "        #prints all elements of the array \n",
    "        return self.elements"
   ]
  },
  {
   "cell_type": "markdown",
   "metadata": {},
   "source": [
    "## Testing Running Time \n",
    "\n",
    "Because it takes a single step to access an item of an array via its index, or add/remove an item at the end of an array, the complexity for accessing, pushing or popping a value in an array is O(1). As can be seen in the example below, the push operation execution time remains constant as the stack size increases. "
   ]
  },
  {
   "cell_type": "code",
   "execution_count": 7,
   "metadata": {},
   "outputs": [
    {
     "data": {
      "image/png": "[encoded data removed]",
      "text/plain": [
       "<Figure size 864x576 with 1 Axes>"
      ]
     },
     "metadata": {
      "needs_background": "light"
     },
     "output_type": "display_data"
    }
   ],
   "source": [
    "execution_times = []\n",
    "S = Stack()\n",
    "for i in range(0,250): \n",
    "    #Timeit Result calculated and stored in time variable\n",
    "    time = %timeit -q -o -n 100 S.push(i)\n",
    "    #appending the Timeit results to the list \n",
    "    execution_times.append(time) \n",
    "               \n",
    "#Initialize empty list for the average execution times \n",
    "average_execution_times = []\n",
    "\n",
    "#for loop iterating over the Timeit Results \n",
    "for i in range(0,250):\n",
    "    # .average attribute of timeit results used to create a list of the average exection times \n",
    "    average_execution_times.append(execution_times[i].average)\n",
    "\n",
    "#plotting results\n",
    "plt.rcParams['figure.figsize'] = [12, 8]              \n",
    "plt.xlabel('Size of Stack') \n",
    "plt.ylabel('Average execution time of push operation (seconds)') \n",
    "plt.title(\"Execution time vs. increasing stack size (push)\" )\n",
    "plt.scatter([x for x in range(0,250)], average_execution_times) \n",
    "plt.grid() \n",
    "plt.savefig(\"3. Execution time vs. increasing stack size (push).png\")\n",
    "plt.show() "
   ]
  },
  {
   "cell_type": "markdown",
   "metadata": {},
   "source": [
    "## 2.2 Stack Operations Example\n",
    "\n",
    "Using the implementation of the stack ADT above we can now execute the series of stack operations as per the assignment instructions. These include 9 push and 8 pop operations, in order to get an idea of how the stack looks after each operation we have used the show method to print the stack. After these 17 operations are executed the stack is of size 1 i.e it contains only one element. "
   ]
  },
  {
   "cell_type": "code",
   "execution_count": 8,
   "metadata": {},
   "outputs": [
    {
     "name": "stdout",
     "output_type": "stream",
     "text": [
      "Stack empty: True\n",
      "[5]\n",
      "[5, 3]\n",
      "[5]\n",
      "[5, 2]\n",
      "[5, 2, 8]\n",
      "[5, 2]\n",
      "[5]\n",
      "[5, 9]\n",
      "[5, 9, 1]\n",
      "[5, 9]\n",
      "[5, 9, 7]\n",
      "[5, 9, 7, 6]\n",
      "[5, 9, 7]\n",
      "[5, 9]\n",
      "[5, 9, 4]\n",
      "[5, 9]\n",
      "[5]\n",
      "Final stack size: 1\n"
     ]
    }
   ],
   "source": [
    "#create empty stack \n",
    "s=Stack()\n",
    "\n",
    "#check that the stack is empty \n",
    "print(\"Stack empty:\", s.isEmpty())\n",
    "\n",
    "#series of operations as per the assignment instructions\n",
    "#show method implemented after each operation to show the changes in the queue \n",
    "s.push(5)\n",
    "print(s.show())\n",
    "s.push(3)\n",
    "print(s.show())\n",
    "s.pop()\n",
    "print(s.show())\n",
    "s.push(2)\n",
    "print(s.show())\n",
    "s.push(8)\n",
    "print(s.show())\n",
    "s.pop()\n",
    "print(s.show())\n",
    "s.pop()\n",
    "print(s.show())\n",
    "s.push(9)\n",
    "print(s.show())\n",
    "s.push(1)\n",
    "print(s.show())\n",
    "s.pop()\n",
    "print(s.show())\n",
    "s.push(7)\n",
    "print(s.show())\n",
    "s.push(6)\n",
    "print(s.show())\n",
    "s.pop()\n",
    "print(s.show())\n",
    "s.pop()\n",
    "print(s.show())\n",
    "s.push(4)\n",
    "print(s.show())\n",
    "s.pop()\n",
    "print(s.show())\n",
    "s.pop()\n",
    "print(s.show())\n",
    "print(\"Final stack size:\", s.size())"
   ]
  },
  {
   "cell_type": "markdown",
   "metadata": {},
   "source": [
    "## 2.3 Stack Operations Example\n",
    "\n",
    "We take an initially empty stack and perform a toal of 35 push operations, 15 top operations and 10 pop operations. 3 of the pop operations raised empty errors, these were caught and ignored, this means that 3 of the operations were performed on an empty stack, therefore they will be performed on the initial empty stack. After all of these operations, the current size of the stack will be **28**. The implementaion of these operations is seen below using for loops, we are trying to find the size of the final stack and therefore the order of operations does not matter."
   ]
  },
  {
   "cell_type": "code",
   "execution_count": 3,
   "metadata": {},
   "outputs": [
    {
     "name": "stdout",
     "output_type": "stream",
     "text": [
      "stack is empty: True \n",
      "\n",
      "Now performing 3 pop operations on empty stack\n",
      "current stack size: Empty Error \n",
      "\n",
      "Now performing 35 push operations on the stack\n",
      "current stack size 35 \n",
      "\n",
      "Now performing 7 pop operations on the stack\n",
      "current stack size 28 \n",
      "\n",
      "Now performing 15 top operations on the stack\n",
      "current stack size 28 \n",
      "\n",
      "Final size of stack: 28\n"
     ]
    }
   ],
   "source": [
    "#create an empty stack \n",
    "S=Stack()\n",
    "print(\"stack is empty:\", S.isEmpty(), '\\n')\n",
    "\n",
    "#perform 3 pop operations on an empty stack\n",
    "print(\"Now performing 3 pop operations on empty stack\" )\n",
    "[S.pop() for i in range(0,3)]\n",
    "\n",
    "print(\"current stack size:\",S.size(), '\\n')\n",
    "\n",
    "#perform 35 push operations\n",
    "print(\"Now performing 35 push operations on the stack\")\n",
    "[S.push(i) for i in range(0,35)]\n",
    "\n",
    "print(\"current stack size\",S.size(), '\\n')\n",
    "\n",
    "#perform 7 pop operations that will not return empty errors\n",
    "print(\"Now performing 7 pop operations on the stack\")\n",
    "[S.pop() for i in range(0,7)]\n",
    "\n",
    "print(\"current stack size\",S.size(), '\\n')\n",
    "    \n",
    "#perform 15 top operations\n",
    "print(\"Now performing 15 top operations on the stack\")\n",
    "[S.top_stack() for i in range(0,15)]\n",
    "\n",
    "print(\"current stack size\",S.size(), '\\n')\n",
    "\n",
    "#print the stack size \n",
    "print(\"Final size of stack:\", S.size())"
   ]
  },
  {
   "cell_type": "markdown",
   "metadata": {},
   "source": [
    "## 3.1 Queue ADT Implementation\n",
    "\n",
    "The queue ADT implementation is similar to that of the stack ADT, however unlike a stack the addition and removal of elements do not occur at the same side of the sequence, but rather at opposite ends. Therefore, the queue ADT is implemented as a subclass of the stack ADT such that it can inherit the support operations methods such as show, isEmpty and size. Three new methods are implemented, these being: \n",
    "- ***enqueue***: This has the exact same functionality as the push operation from the stack ADT, in that it adds an element to the end of the sequence. But to avoid method name ambiguity we must give it an alternative name.\n",
    "\n",
    "- ***dequeue*** This removes the element at the top of the queue i.e. it removes the element at the start of the sequence \n",
    "\n",
    "- ***top_queue*** returns the element at the top of the queue, this cannot be inherited from stack as it must return the first element in the array rather than the last.\n",
    "\n",
    "Once again this implementation was done using arrays. For the purposes of this assignment we will assume that the queue  does not have a specific capacity. Regardless of how many elements are already contained, a new element can always be added. "
   ]
  },
  {
   "cell_type": "code",
   "execution_count": 4,
   "metadata": {},
   "outputs": [],
   "source": [
    "class queue(Stack):\n",
    "    #constructor\n",
    "    def __init__(self):\n",
    "        #creates and empty array\n",
    "        self.elements = []\n",
    "        \n",
    "    #method to add an element to the end of the queue\n",
    "    def enqueue(self, element):\n",
    "        #adds an element at the end of the array\n",
    "        self.elements.append(element)\n",
    "        \n",
    "    #method to remove an element from the top of the queue\n",
    "    def dequeue(self):\n",
    "        #checks if queue is empty\n",
    "        if self.isEmpty():\n",
    "            return \"Empty Error\"\n",
    "        #removes the first element in the array \n",
    "        self.elements = self.elements[1:]\n",
    "        \n",
    "    #method to see the top element of the stack \n",
    "    def top_queue(self):\n",
    "        #checks if stack is empty\n",
    "        if self.isEmpty():\n",
    "            return \"Empty Error\"\n",
    "        #returns the first element of the array \n",
    "        return self.elements[0]"
   ]
  },
  {
   "cell_type": "markdown",
   "metadata": {},
   "source": [
    "## Testing Running Time \n",
    "\n",
    "## *enqueue*\n",
    "\n",
    "Similar to the stack implementation, due to the fact that it takes a single step to access an item of an array via its index, or add/remove an item at the end of an array, the complexity for enqueue is O(1). As can be seen in the example below, the enqueue operation execution time remains constant with increasing input size.\n"
   ]
  },
  {
   "cell_type": "code",
   "execution_count": 11,
   "metadata": {},
   "outputs": [
    {
     "data": {
      "image/png": "[encoded data removed]",
      "text/plain": [
       "<Figure size 864x576 with 1 Axes>"
      ]
     },
     "metadata": {
      "needs_background": "light"
     },
     "output_type": "display_data"
    }
   ],
   "source": [
    "execution_times = []\n",
    "Q = queue()\n",
    "for i in range(0,250): \n",
    "    #Timeit Result calculated and stored in time variable\n",
    "    time = %timeit -q -o -n 100 Q.enqueue(i)\n",
    "    #appending the Timeit results to the list \n",
    "    execution_times.append(time) \n",
    "               \n",
    "#Initialize empty list for the average execution times \n",
    "average_execution_times = []\n",
    "\n",
    "#for loop iterating over the Timeit Results \n",
    "for i in range(0,250):\n",
    "    # .average attribute of timeit results used to create a list of the average exection times \n",
    "    average_execution_times.append(execution_times[i].average)\n",
    "\n",
    "#plotting results\n",
    "plt.rcParams['figure.figsize'] = [12, 8]              \n",
    "plt.xlabel('Size of queue') \n",
    "plt.ylabel('Average execution time (seconds)') \n",
    "plt.title(\"Execution time vs. increasing queue size (enqueue)\" )\n",
    "plt.scatter([x for x in range(0,250)], average_execution_times) \n",
    "plt.grid() \n",
    "plt.savefig(\"4. Execution time vs. increasing queue size (enqueue).png\")\n",
    "plt.show() "
   ]
  },
  {
   "cell_type": "markdown",
   "metadata": {},
   "source": [
    "## *dequeue*\n",
    "\n",
    "However, the *dequeue* operation has time complexity of O(n) , this is due to the fact that the element at the front of the queue is deleted, but all the remaining elements have to be shifted to the left by one position in order for the dequeue operation to delete the second element from the left on another dequeue operation. Therefore as the number of dequeue operations increases, so too does the execution time of the function. This is evident from the plot below, where we see a linear plot when execution time of the dequeue operation is plotted against increasing queue size."
   ]
  },
  {
   "cell_type": "code",
   "execution_count": 12,
   "metadata": {},
   "outputs": [
    {
     "data": {
      "image/png": "[encoded data removed]",
      "text/plain": [
       "<Figure size 864x576 with 1 Axes>"
      ]
     },
     "metadata": {
      "needs_background": "light"
     },
     "output_type": "display_data"
    }
   ],
   "source": [
    "execution_times = []\n",
    "for i in range(0,250): \n",
    "    Q = queue()\n",
    "    #create queue\n",
    "    [Q.enqueue(i) for i in range(0,250)]\n",
    "    #Timeit Result calculated and stored in time variable\n",
    "    time = %timeit -q -o -n 100 [Q.dequeue() for x in range(0,i)]\n",
    "    #appending the Timeit results to the list \n",
    "    execution_times.append(time)             \n",
    "#Initialize empty list for the average execution times \n",
    "average_execution_times = []\n",
    "#for loop iterating over the Timeit Results \n",
    "for i in range(0,250):\n",
    "    # .average attribute of timeit results used to create a list of the average exection times \n",
    "    average_execution_times.append(execution_times[i].average)\n",
    "    \n",
    "#plotting results\n",
    "plt.rcParams['figure.figsize'] = [12, 8]              \n",
    "plt.xlabel('Size of queue') \n",
    "plt.ylabel('Average execution time (seconds)') \n",
    "plt.title(\"Execution time vs. increasing queue size (dequeue) \" )\n",
    "plt.scatter([x for x in range(0,250)], average_execution_times) \n",
    "plt.grid() \n",
    "plt.savefig(\"5. Execution time vs. increasing queue size (dequeue).png\")\n",
    "plt.show() "
   ]
  },
  {
   "cell_type": "markdown",
   "metadata": {},
   "source": [
    "## 3.2 Queue Operations Example\n",
    "\n",
    "Using the implementation of the queue ADT above we can now execute the series of queue operations as per the assignment instructions. These include 9 enqueue and 8 dequeue operations, in order to get an idea of how the queue looks after each operation we have used the show method to print the queue. After these 17 operations are executed the queue is of size 1 i.e it contains only one element. "
   ]
  },
  {
   "cell_type": "code",
   "execution_count": 13,
   "metadata": {},
   "outputs": [
    {
     "name": "stdout",
     "output_type": "stream",
     "text": [
      "Queue empty: True\n",
      "[5]\n",
      "[5, 3]\n",
      "[3]\n",
      "[3, 2]\n",
      "[3, 2, 8]\n",
      "[2, 8]\n",
      "[8]\n",
      "[8, 9]\n",
      "[8, 9, 1]\n",
      "[9, 1]\n",
      "[9, 1, 7]\n",
      "[9, 1, 7, 6]\n",
      "[1, 7, 6]\n",
      "[7, 6]\n",
      "[7, 6, 4]\n",
      "[6, 4]\n",
      "[4]\n",
      "Final Queue size: 1\n"
     ]
    }
   ],
   "source": [
    "#create empty queue\n",
    "Q = queue()\n",
    "\n",
    "#check that the stack is empty \n",
    "print(\"Queue empty:\", Q.isEmpty())\n",
    "\n",
    "#series of operations as per the assignment instructions\n",
    "#show method implemented after each operation to show the changes in the queue \n",
    "Q.enqueue(5)\n",
    "print(Q.show())\n",
    "Q.enqueue(3)\n",
    "print(Q.show())\n",
    "Q.dequeue()\n",
    "print(Q.show())\n",
    "Q.enqueue(2)\n",
    "print(Q.show())\n",
    "Q.enqueue(8)\n",
    "print(Q.show())\n",
    "Q.dequeue()\n",
    "print(Q.show())\n",
    "Q.dequeue()\n",
    "print(Q.show())\n",
    "Q.enqueue(9)\n",
    "print(Q.show())\n",
    "Q.enqueue(1)\n",
    "print(Q.show())\n",
    "Q.dequeue()\n",
    "print(Q.show())\n",
    "Q.enqueue(7)\n",
    "print(Q.show())\n",
    "Q.enqueue(6)\n",
    "print(Q.show())\n",
    "Q.dequeue()\n",
    "print(Q.show())\n",
    "Q.dequeue()\n",
    "print(Q.show())\n",
    "Q.enqueue(4)\n",
    "print(Q.show())\n",
    "Q.dequeue()\n",
    "print(Q.show())\n",
    "Q.dequeue()\n",
    "print(Q.show())\n",
    "\n",
    "print(\"Final Queue size:\", s.size())\n"
   ]
  },
  {
   "cell_type": "markdown",
   "metadata": {},
   "source": [
    "## 3.3 Queue Operations Example\n",
    "\n",
    "We take an initially empty queue and perform a total of 50 enqueue operations, 15 top operations and 15 dequeue operations on the queue. Similar to the stack operations example (2.3), 5 of the dequeue operations raised empty errors, these were caught and ignored, this means that 5 of the operations will have to be performed on an empty stack, therefore they will be performed on the initial empty stack and the remaining 10 dequeue operations will be performed on the full stack. After all of these operations, the current size of the queue will be **40**. The implementaion of these operations is seen below using for loops, we are trying to find the size of the final queue and therefore the order of operations does not matter."
   ]
  },
  {
   "cell_type": "code",
   "execution_count": 14,
   "metadata": {},
   "outputs": [
    {
     "name": "stdout",
     "output_type": "stream",
     "text": [
      "Queue is empty: True \n",
      "\n",
      "Now performing 5 dequeue operations on empty queue\n",
      "current stack size: Empty Error \n",
      "\n",
      "Now performing 50 enqueue operations on the queue\n",
      "current stack size: 50 \n",
      "\n",
      "Now performing 10 dequeue operations on the queue\n",
      "current stack size: 40 \n",
      "\n",
      "Now performing 15 top operations on the queue\n",
      "current stack size: 40 \n",
      "\n",
      "Final size of queue: 40\n"
     ]
    }
   ],
   "source": [
    "#create an empty queue\n",
    "Q = queue()\n",
    "print(\"Queue is empty:\", Q.isEmpty(), '\\n')\n",
    "\n",
    "#perform 5 dequeue operations \n",
    "print(\"Now performing 5 dequeue operations on empty queue\" )\n",
    "[Q.dequeue() for i in range(0,5)]\n",
    "print(\"current stack size:\",Q.size(), '\\n')\n",
    "\n",
    "#perform 50 enqueue operations\n",
    "print(\"Now performing 50 enqueue operations on the queue\")\n",
    "[Q.enqueue(i) for i in range(0,50)]\n",
    "print(\"current stack size:\",Q.size(), '\\n')\n",
    "\n",
    "#perform 10 dequeue operations that will not return empty errors\n",
    "print(\"Now performing 10 dequeue operations on the queue\" )\n",
    "[Q.dequeue() for i in range(0,10)]\n",
    "print(\"current stack size:\",Q.size(), '\\n')\n",
    "\n",
    "#perform 15 top operations\n",
    "print(\"Now performing 15 top operations on the queue\")\n",
    "[Q.top_queue() for i in range(0,15)]\n",
    "print(\"current stack size:\",Q.size(), '\\n')\n",
    "\n",
    "print(\"Final size of queue:\", Q.size())\n"
   ]
  },
  {
   "cell_type": "markdown",
   "metadata": {},
   "source": [
    "## 4. Conclusion\n",
    "\n",
    "In conclusion, through analysis of these algorithms, the complexities of their processes and their inner workings have become far more apparent. It was incredibly interesting to see these implementations first hand and get a better understanding of linked lists and these abstract data types. For future work it would be interesting to implement a doubly linked list and get a better undrstanding of its functionality. As well as this it would be insightful to see how stacks and queues can be implemented with linked lists rather than arrays. Pease find attached a pdf of all relevant plots as produced at the time of analysis, and find below the unit tests carried out on the algorithms contained in this report. "
   ]
  },
  {
   "cell_type": "markdown",
   "metadata": {},
   "source": [
    "## 5. Appendix\n",
    "\n",
    "Unit tests were performed on each of the operations for a range of inputs with known output, all tests passed successfully.\n",
    "\n",
    "### 5.1 Unit Tests for Linked List\n"
   ]
  },
  {
   "cell_type": "code",
   "execution_count": 17,
   "metadata": {},
   "outputs": [
    {
     "name": "stderr",
     "output_type": "stream",
     "text": [
      "test_add_first (__main__.TestAlgorithms) ... ok\n",
      "test_add_last (__main__.TestAlgorithms) ... ok\n",
      "test_isEmpty_1 (__main__.TestAlgorithms) ... ok\n",
      "test_isEmpty_2 (__main__.TestAlgorithms) ... ok\n",
      "test_list_traversal (__main__.TestAlgorithms) ... ok\n",
      "test_remove_first (__main__.TestAlgorithms) ... ok\n",
      "test_size (__main__.TestAlgorithms) ... ok\n",
      "\n",
      "----------------------------------------------------------------------\n",
      "Ran 7 tests in 0.019s\n",
      "\n",
      "OK\n"
     ]
    },
    {
     "data": {
      "text/plain": [
       "<unittest.main.TestProgram at 0x11317f070>"
      ]
     },
     "execution_count": 17,
     "metadata": {},
     "output_type": "execute_result"
    }
   ],
   "source": [
    "class TestAlgorithms(unittest.TestCase):\n",
    "    \n",
    "    def setUp(self):\n",
    "        self.linked_list = myLinkedList()\n",
    "     \n",
    "    def test_list_traversal(self):\n",
    "        #using mock calls to test list traversal, all tests are ok\n",
    "        with patch('builtins.print') as mocked_print:\n",
    "            self.linked_list.add_first(1)\n",
    "            self.linked_list.add_first(1)\n",
    "            print(self.linked_list.list_traversal())\n",
    "            self.assertEqual(mocked_print.mock_calls,[call([1,1])])\n",
    "            \n",
    "    def test_add_first(self):\n",
    "        #adding three elements to a linked list using add_first and checking against output from list_traversal\n",
    "        self.linked_list.add_first(1)\n",
    "        self.linked_list.add_first(2) \n",
    "        self.linked_list.add_first(3)\n",
    "        self.assertEqual(self.linked_list.list_traversal(), [3,2,1])\n",
    "        \n",
    "    def test_add_last(self):\n",
    "        #adding three elements to a linked list using add_last and checking against output from list_traversal\n",
    "        self.linked_list.add_last(1)\n",
    "        self.linked_list.add_last(2) \n",
    "        self.linked_list.add_last(3)\n",
    "        self.assertEqual(self.linked_list.list_traversal(), [1,2,3])\n",
    "\n",
    "    def test_remove_first(self):    \n",
    "        #testing remove_first by adding one node to linked list and removing \n",
    "        #error message should show \n",
    "        self.linked_list.add_last(1) \n",
    "        self.linked_list.remove_first()\n",
    "        self.assertEqual(self.linked_list.remove_first(), \"Error: Linked List is Empty\")\n",
    "\n",
    "        \n",
    "    def test_isEmpty_1(self):\n",
    "        #checking if empty linked list is empty \n",
    "        self.assertEqual(self.linked_list.isEmpty(),'linked list is empty' ) \n",
    "        \n",
    "    def test_isEmpty_2(self):\n",
    "        #adding two elements to linked list and testing if empty \n",
    "        #should return appropriate message\n",
    "        self.linked_list.add_first(2)\n",
    "        self.linked_list.add_last(2)\n",
    "        self.assertEqual(self.linked_list.isEmpty(),'linked list is not empty' )\n",
    "           \n",
    "    def test_size(self):\n",
    "        #adding two nodes to linked list \n",
    "        #should return two \n",
    "        linked_list = myLinkedList()\n",
    "        linked_list.add_first(2)\n",
    "        linked_list.add_last(2)\n",
    "        self.assertEqual(linked_list.size(),2) \n",
    "        \n",
    "unittest.main(argv=[''], verbosity=2, exit=False)"
   ]
  },
  {
   "cell_type": "markdown",
   "metadata": {},
   "source": [
    "### 5.2 Unit Tests for Stack ADT"
   ]
  },
  {
   "cell_type": "code",
   "execution_count": 18,
   "metadata": {},
   "outputs": [
    {
     "name": "stderr",
     "output_type": "stream",
     "text": [
      "test_isEmpty1 (__main__.TestAlgorithms) ... ok\n",
      "test_isEmpty2 (__main__.TestAlgorithms) ... ok\n",
      "test_pop (__main__.TestAlgorithms) ... ok\n",
      "test_push (__main__.TestAlgorithms) ... ok\n",
      "test_show (__main__.TestAlgorithms) ... ok\n",
      "test_size (__main__.TestAlgorithms) ... ok\n",
      "test_top_queue (__main__.TestAlgorithms) ... ok\n",
      "\n",
      "----------------------------------------------------------------------\n",
      "Ran 7 tests in 0.019s\n",
      "\n",
      "OK\n"
     ]
    },
    {
     "data": {
      "text/plain": [
       "<unittest.main.TestProgram at 0x113122910>"
      ]
     },
     "execution_count": 18,
     "metadata": {},
     "output_type": "execute_result"
    }
   ],
   "source": [
    "class TestAlgorithms(unittest.TestCase):\n",
    "\n",
    "    def setUp(self):\n",
    "        self.S = Stack ()\n",
    "\n",
    "    def test_isEmpty1(self):\n",
    "        #adding four elements to stack\n",
    "        #should return False as not empty\n",
    "        self.S.push(1)\n",
    "        self.S.push(2)   \n",
    "        self.assertEqual(self.S.isEmpty(), False)\n",
    " \n",
    "    def test_isEmpty2(self):\n",
    "        #empty stack so should return true \n",
    "        self.assertEqual(self.S.isEmpty(), True)\n",
    "        \n",
    "    def test_show(self):\n",
    "        #adding 4 elements with push and checking with array \n",
    "        self.S.push(1)\n",
    "        self.S.push(2)   \n",
    "        self.assertEqual(self.S.show(), [1,2])\n",
    "        \n",
    "    def test_push(self):\n",
    "        #the push operation does not return any value and therefore show will be used to check that \n",
    "        #the push operation is working correctly (show works as expected)\n",
    "        self.S.push(1)\n",
    "        self.S.push(2)           \n",
    "        self.assertEqual(self.S.show(), [1,2])\n",
    "\n",
    "    def test_pop(self):\n",
    "        #same as above, pop does not return any value so show will be used\n",
    "        #one element pushed and one popped \n",
    "        self.S.push(1)\n",
    "        self.S.push(2)\n",
    "        self.S.pop()\n",
    "        self.assertEqual(self.S.show(), [1])\n",
    "\n",
    "    def test_top_queue(self):\n",
    "        self.S.push(1)\n",
    "        self.S.push(2)\n",
    "        self.S.push(3)\n",
    "        self.assertEqual(self.S.top_stack(), 3)\n",
    "\n",
    "    def test_size(self):\n",
    "        self.S.push(1)\n",
    "        self.S.push(2)\n",
    "        self.S.push(3)\n",
    "        self.assertEqual(self.S.size(), 3)\n",
    "        \n",
    "unittest.main(argv=[''], verbosity=2, exit=False)"
   ]
  },
  {
   "cell_type": "markdown",
   "metadata": {},
   "source": [
    "### 5.3 Unit Tests for Queue ADT"
   ]
  },
  {
   "cell_type": "code",
   "execution_count": 19,
   "metadata": {},
   "outputs": [
    {
     "name": "stderr",
     "output_type": "stream",
     "text": [
      "test_dequeue (__main__.TestAlgorithms) ... ok\n",
      "test_enqueue (__main__.TestAlgorithms) ... ok\n",
      "test_show_1 (__main__.TestAlgorithms) ... ok\n",
      "test_show_2 (__main__.TestAlgorithms) ... ok\n",
      "test_top_queue (__main__.TestAlgorithms) ... ok\n",
      "\n",
      "----------------------------------------------------------------------\n",
      "Ran 5 tests in 0.014s\n",
      "\n",
      "OK\n"
     ]
    },
    {
     "data": {
      "text/plain": [
       "<unittest.main.TestProgram at 0x113143280>"
      ]
     },
     "execution_count": 19,
     "metadata": {},
     "output_type": "execute_result"
    }
   ],
   "source": [
    "class TestAlgorithms(unittest.TestCase):\n",
    "\n",
    "    def setUp(self):\n",
    "        self.Q = queue()\n",
    "        \n",
    "    def test_enqueue(self):\n",
    "        self.Q.enqueue(1)\n",
    "        self.Q.enqueue(2)   \n",
    "        self.Q.enqueue(3)\n",
    "        self.assertEqual(self.Q.show(), [1,2,3])\n",
    "        \n",
    "    def test_dequeue(self):\n",
    "        self.Q.enqueue(1)\n",
    "        self.Q.enqueue(2)   \n",
    "        self.Q.dequeue()\n",
    "        self.assertEqual(self.Q.show(), [2])\n",
    "\n",
    "    def test_show_1(self):\n",
    "        with patch('builtins.print') as mocked_print:\n",
    "            Q = queue()\n",
    "            Q.enqueue(1)\n",
    "            Q.enqueue(2)   \n",
    "            Q.enqueue(3)\n",
    "            Q.enqueue(4)\n",
    "            print(Q.show())\n",
    "            self.assertEqual(mocked_print.mock_calls,[call([1,2,3,4])])\n",
    "            \n",
    "    def test_show_2(self):\n",
    "        with patch('builtins.print') as mocked_print:\n",
    "            Q = queue()\n",
    "            Q.enqueue(1)\n",
    "            Q.enqueue(2) \n",
    "            Q.dequeue()  \n",
    "            print(Q.show())\n",
    "\n",
    "            self.assertEqual(mocked_print.mock_calls,[call([2])]) \n",
    "            \n",
    "        \n",
    "    def test_top_queue(self):\n",
    "        self.Q.enqueue(1)\n",
    "        self.Q.enqueue(2) \n",
    "        self.assertEqual(self.Q.top_queue(), 1)\n",
    "unittest.main(argv=[''], verbosity=2, exit=False)"
   ]
  },
  {
   "cell_type": "code",
   "execution_count": null,
   "metadata": {},
   "outputs": [],
   "source": []
  }
 ],
 "metadata": {
  "kernelspec": {
   "display_name": "Python 3",
   "language": "python",
   "name": "python3"
  },
  "language_info": {
   "codemirror_mode": {
    "name": "ipython",
    "version": 3
   },
   "file_extension": ".py",
   "mimetype": "text/x-python",
   "name": "python",
   "nbconvert_exporter": "python",
   "pygments_lexer": "ipython3",
   "version": "3.8.3"
  }
 },
 "nbformat": 4,
 "nbformat_minor": 4
}
